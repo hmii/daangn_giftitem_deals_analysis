{
 "cells": [
  {
   "cell_type": "code",
   "execution_count": 1,
   "id": "85c59c7d",
   "metadata": {},
   "outputs": [],
   "source": [
    "import pandas as pd\n",
    "import re\n",
    "from datetime import date, datetime, timedelta\n",
    "from dateutil.relativedelta import relativedelta\n",
    "\n",
    "current_date = datetime(2021, 9, 29, 12, 33, 4)\n",
    "\n",
    "def when(x):\n",
    "    \n",
    "    p = re.compile('(\\d+)')\n",
    "    delta = -int(p.findall(x)[0])\n",
    "    if x.find(\"초\") >= 0:\n",
    "        result = timedelta(seconds = delta)\n",
    "        \n",
    "    elif x.find(\"분\") >= 0:\n",
    "        result = timedelta(minutes = delta)\n",
    "        \n",
    "    elif x.find(\"시간\") >= 0:\n",
    "        result = timedelta(hours = delta)\n",
    "     \n",
    "    elif x.find(\"일\") >= 0:\n",
    "        result = timedelta(days = delta)\n",
    "        \n",
    "    elif x.find(\"달\") >= 0:\n",
    "        result = relativedelta(months = delta)\n",
    "        \n",
    "    elif x.find(\"년\") >= 0:\n",
    "        result = relativedelta(years = delta)\n",
    "        \n",
    "    else:\n",
    "        result = timedelta(days = 0)\n",
    "\n",
    "    return current_date + result"
   ]
  },
  {
   "cell_type": "code",
   "execution_count": 31,
   "id": "f5a99e2c",
   "metadata": {},
   "outputs": [
    {
     "data": {
      "text/plain": [
       "datetime.datetime(2021, 9, 29, 9, 33, 4)"
      ]
     },
     "execution_count": 31,
     "metadata": {},
     "output_type": "execute_result"
    }
   ],
   "source": [
    "when(\"끌올 3시간 전\")"
   ]
  },
  {
   "cell_type": "code",
   "execution_count": 32,
   "id": "70021e9d",
   "metadata": {},
   "outputs": [
    {
     "data": {
      "text/plain": [
       "datetime.datetime(2021, 9, 29, 12, 33, 4)"
      ]
     },
     "execution_count": 32,
     "metadata": {},
     "output_type": "execute_result"
    }
   ],
   "source": [
    "current_date = datetime(2021, 9, 29, 12, 33, 4)\n",
    "current_date"
   ]
  },
  {
   "cell_type": "code",
   "execution_count": 24,
   "id": "2db31c05",
   "metadata": {},
   "outputs": [
    {
     "data": {
      "text/plain": [
       "datetime.datetime(2021, 9, 29, 12, 32, 52)"
      ]
     },
     "execution_count": 24,
     "metadata": {},
     "output_type": "execute_result"
    }
   ],
   "source": [
    "current_date = datetime(2021, 9, 29, 12, 33, 4)\n",
    "p = re.compile('(\\d+)')\n",
    "delta = -int(p.findall(\"끌올 12초 전\")[0])\n",
    "result = timedelta(seconds = delta)\n",
    "result\n",
    "current_date + result"
   ]
  },
  {
   "cell_type": "code",
   "execution_count": 61,
   "id": "a239f392",
   "metadata": {},
   "outputs": [
    {
     "data": {
      "text/plain": [
       "(2397, 10)"
      ]
     },
     "execution_count": 61,
     "metadata": {},
     "output_type": "execute_result"
    }
   ],
   "source": [
    "df = pd.read_excel('carrot_list_용산구_선물세트_2021-09-29 181253.xlsx')\n",
    "df.shape"
   ]
  },
  {
   "cell_type": "code",
   "execution_count": 102,
   "id": "234c70f0",
   "metadata": {},
   "outputs": [
    {
     "data": {
      "text/html": [
       "<div>\n",
       "<style scoped>\n",
       "    .dataframe tbody tr th:only-of-type {\n",
       "        vertical-align: middle;\n",
       "    }\n",
       "\n",
       "    .dataframe tbody tr th {\n",
       "        vertical-align: top;\n",
       "    }\n",
       "\n",
       "    .dataframe thead th {\n",
       "        text-align: right;\n",
       "    }\n",
       "</style>\n",
       "<table border=\"1\" class=\"dataframe\">\n",
       "  <thead>\n",
       "    <tr style=\"text-align: right;\">\n",
       "      <th></th>\n",
       "      <th>num</th>\n",
       "      <th>region</th>\n",
       "      <th>title</th>\n",
       "      <th>category</th>\n",
       "      <th>time</th>\n",
       "      <th>price</th>\n",
       "      <th>detail</th>\n",
       "      <th>interest</th>\n",
       "      <th>chat</th>\n",
       "      <th>view</th>\n",
       "      <th>date</th>\n",
       "    </tr>\n",
       "  </thead>\n",
       "  <tbody>\n",
       "    <tr>\n",
       "      <th>0</th>\n",
       "      <td>235024996</td>\n",
       "      <td>용산구 보광동</td>\n",
       "      <td>마티스 드로잉 옆서 2세트 가격</td>\n",
       "      <td>가구/인테리어</td>\n",
       "      <td>끌올 1달 전</td>\n",
       "      <td>7000</td>\n",
       "      <td>일반 옆서 크기에요\\n마티스 그림이에요\\n벽면에 몇개붙여 놓아도 분위기\\n확살아요 ...</td>\n",
       "      <td>1</td>\n",
       "      <td>1</td>\n",
       "      <td>95</td>\n",
       "      <td>2021-08-29</td>\n",
       "    </tr>\n",
       "    <tr>\n",
       "      <th>1</th>\n",
       "      <td>207886534</td>\n",
       "      <td>용산구 한강로1가</td>\n",
       "      <td>아미니(Amini) 대용량4종+비누2종 선물세트</td>\n",
       "      <td>뷰티/미용</td>\n",
       "      <td>끌올 3달 전</td>\n",
       "      <td>28000</td>\n",
       "      <td>향도 좋고 품질좋은 아미니 선물세트입니다.\\n각 500ml×4 대용량 4종류(샴푸 ...</td>\n",
       "      <td>7</td>\n",
       "      <td>0</td>\n",
       "      <td>142</td>\n",
       "      <td>2021-06-29</td>\n",
       "    </tr>\n",
       "    <tr>\n",
       "      <th>2</th>\n",
       "      <td>171692210</td>\n",
       "      <td>용산구 문배동</td>\n",
       "      <td>닥터 브로너스 퓨어 캐스틸 솝 선물세트 (새상품)</td>\n",
       "      <td>뷰티/미용</td>\n",
       "      <td>끌올 8달 전</td>\n",
       "      <td>24000</td>\n",
       "      <td>닥터브로너스 퓨어 캐스틸 솝 선물세트 입니다. 새상품입니다.\\n12가지 종류의 솝이...</td>\n",
       "      <td>3</td>\n",
       "      <td>0</td>\n",
       "      <td>86</td>\n",
       "      <td>2021-01-29</td>\n",
       "    </tr>\n",
       "  </tbody>\n",
       "</table>\n",
       "</div>"
      ],
      "text/plain": [
       "         num     region                        title category     time  price  \\\n",
       "0  235024996    용산구 보광동            마티스 드로잉 옆서 2세트 가격  가구/인테리어  끌올 1달 전   7000   \n",
       "1  207886534  용산구 한강로1가   아미니(Amini) 대용량4종+비누2종 선물세트    뷰티/미용  끌올 3달 전  28000   \n",
       "2  171692210    용산구 문배동  닥터 브로너스 퓨어 캐스틸 솝 선물세트 (새상품)    뷰티/미용  끌올 8달 전  24000   \n",
       "\n",
       "                                              detail  interest  chat  view  \\\n",
       "0  일반 옆서 크기에요\\n마티스 그림이에요\\n벽면에 몇개붙여 놓아도 분위기\\n확살아요 ...         1     1    95   \n",
       "1  향도 좋고 품질좋은 아미니 선물세트입니다.\\n각 500ml×4 대용량 4종류(샴푸 ...         7     0   142   \n",
       "2  닥터브로너스 퓨어 캐스틸 솝 선물세트 입니다. 새상품입니다.\\n12가지 종류의 솝이...         3     0    86   \n",
       "\n",
       "        date  \n",
       "0 2021-08-29  \n",
       "1 2021-06-29  \n",
       "2 2021-01-29  "
      ]
     },
     "execution_count": 102,
     "metadata": {},
     "output_type": "execute_result"
    }
   ],
   "source": [
    "df.head(3)"
   ]
  },
  {
   "cell_type": "code",
   "execution_count": 104,
   "id": "416c9fb0",
   "metadata": {},
   "outputs": [
    {
     "data": {
      "text/html": [
       "<div>\n",
       "<style scoped>\n",
       "    .dataframe tbody tr th:only-of-type {\n",
       "        vertical-align: middle;\n",
       "    }\n",
       "\n",
       "    .dataframe tbody tr th {\n",
       "        vertical-align: top;\n",
       "    }\n",
       "\n",
       "    .dataframe thead th {\n",
       "        text-align: right;\n",
       "    }\n",
       "</style>\n",
       "<table border=\"1\" class=\"dataframe\">\n",
       "  <thead>\n",
       "    <tr style=\"text-align: right;\">\n",
       "      <th></th>\n",
       "      <th>num</th>\n",
       "      <th>region</th>\n",
       "      <th>title</th>\n",
       "      <th>category</th>\n",
       "      <th>time</th>\n",
       "      <th>price</th>\n",
       "      <th>detail</th>\n",
       "      <th>interest</th>\n",
       "      <th>chat</th>\n",
       "      <th>view</th>\n",
       "      <th>date</th>\n",
       "      <th>ym_date</th>\n",
       "    </tr>\n",
       "  </thead>\n",
       "  <tbody>\n",
       "    <tr>\n",
       "      <th>0</th>\n",
       "      <td>235024996</td>\n",
       "      <td>용산구 보광동</td>\n",
       "      <td>마티스 드로잉 옆서 2세트 가격</td>\n",
       "      <td>가구/인테리어</td>\n",
       "      <td>끌올 1달 전</td>\n",
       "      <td>7000</td>\n",
       "      <td>일반 옆서 크기에요\\n마티스 그림이에요\\n벽면에 몇개붙여 놓아도 분위기\\n확살아요 ...</td>\n",
       "      <td>1</td>\n",
       "      <td>1</td>\n",
       "      <td>95</td>\n",
       "      <td>2021-08-29</td>\n",
       "      <td>2021-08</td>\n",
       "    </tr>\n",
       "    <tr>\n",
       "      <th>1</th>\n",
       "      <td>207886534</td>\n",
       "      <td>용산구 한강로1가</td>\n",
       "      <td>아미니(Amini) 대용량4종+비누2종 선물세트</td>\n",
       "      <td>뷰티/미용</td>\n",
       "      <td>끌올 3달 전</td>\n",
       "      <td>28000</td>\n",
       "      <td>향도 좋고 품질좋은 아미니 선물세트입니다.\\n각 500ml×4 대용량 4종류(샴푸 ...</td>\n",
       "      <td>7</td>\n",
       "      <td>0</td>\n",
       "      <td>142</td>\n",
       "      <td>2021-06-29</td>\n",
       "      <td>2021-06</td>\n",
       "    </tr>\n",
       "    <tr>\n",
       "      <th>2</th>\n",
       "      <td>171692210</td>\n",
       "      <td>용산구 문배동</td>\n",
       "      <td>닥터 브로너스 퓨어 캐스틸 솝 선물세트 (새상품)</td>\n",
       "      <td>뷰티/미용</td>\n",
       "      <td>끌올 8달 전</td>\n",
       "      <td>24000</td>\n",
       "      <td>닥터브로너스 퓨어 캐스틸 솝 선물세트 입니다. 새상품입니다.\\n12가지 종류의 솝이...</td>\n",
       "      <td>3</td>\n",
       "      <td>0</td>\n",
       "      <td>86</td>\n",
       "      <td>2021-01-29</td>\n",
       "      <td>2021-01</td>\n",
       "    </tr>\n",
       "  </tbody>\n",
       "</table>\n",
       "</div>"
      ],
      "text/plain": [
       "         num     region                        title category     time  price  \\\n",
       "0  235024996    용산구 보광동            마티스 드로잉 옆서 2세트 가격  가구/인테리어  끌올 1달 전   7000   \n",
       "1  207886534  용산구 한강로1가   아미니(Amini) 대용량4종+비누2종 선물세트    뷰티/미용  끌올 3달 전  28000   \n",
       "2  171692210    용산구 문배동  닥터 브로너스 퓨어 캐스틸 솝 선물세트 (새상품)    뷰티/미용  끌올 8달 전  24000   \n",
       "\n",
       "                                              detail  interest  chat  view  \\\n",
       "0  일반 옆서 크기에요\\n마티스 그림이에요\\n벽면에 몇개붙여 놓아도 분위기\\n확살아요 ...         1     1    95   \n",
       "1  향도 좋고 품질좋은 아미니 선물세트입니다.\\n각 500ml×4 대용량 4종류(샴푸 ...         7     0   142   \n",
       "2  닥터브로너스 퓨어 캐스틸 솝 선물세트 입니다. 새상품입니다.\\n12가지 종류의 솝이...         3     0    86   \n",
       "\n",
       "        date  ym_date  \n",
       "0 2021-08-29  2021-08  \n",
       "1 2021-06-29  2021-06  \n",
       "2 2021-01-29  2021-01  "
      ]
     },
     "execution_count": 104,
     "metadata": {},
     "output_type": "execute_result"
    }
   ],
   "source": [
    "df['date'] = df['time'].apply(when) # 날짜 변환 \n",
    "df['ym_date'] = df['date'].dt.strftime('%Y-%m') # 년도 - 월 추출 \n",
    "df.head(3)"
   ]
  },
  {
   "cell_type": "markdown",
   "id": "e189e044",
   "metadata": {},
   "source": [
    "# 한 달 내"
   ]
  },
  {
   "cell_type": "code",
   "execution_count": 105,
   "id": "d52b7b53",
   "metadata": {},
   "outputs": [
    {
     "data": {
      "text/plain": [
       "(566, 12)"
      ]
     },
     "execution_count": 105,
     "metadata": {},
     "output_type": "execute_result"
    }
   ],
   "source": [
    "df_less_amonth = df[df.time.str.contains(\"초|분|시간|일\")]\n",
    "df_less_amonth.shape"
   ]
  },
  {
   "cell_type": "code",
   "execution_count": 106,
   "id": "6cae97ca",
   "metadata": {},
   "outputs": [
    {
     "data": {
      "text/plain": [
       "<AxesSubplot:xlabel='date'>"
      ]
     },
     "execution_count": 106,
     "metadata": {},
     "output_type": "execute_result"
    },
    {
     "data": {
      "image/png": "[encoded data removed]",
      "text/plain": [
       "<Figure size 432x288 with 1 Axes>"
      ]
     },
     "metadata": {
      "needs_background": "light"
     },
     "output_type": "display_data"
    }
   ],
   "source": [
    "df_less_amonth.groupby('date').title.count().plot.bar() # 날짜별 물량 "
   ]
  },
  {
   "cell_type": "code",
   "execution_count": 107,
   "id": "b4997d68",
   "metadata": {},
   "outputs": [
    {
     "data": {
      "text/plain": [
       "<AxesSubplot:xlabel='date'>"
      ]
     },
     "execution_count": 107,
     "metadata": {},
     "output_type": "execute_result"
    },
    {
     "data": {
      "image/png": "[encoded data removed]",
      "text/plain": [
       "<Figure size 432x288 with 1 Axes>"
      ]
     },
     "metadata": {
      "needs_background": "light"
     },
     "output_type": "display_data"
    }
   ],
   "source": [
    "df_less_amonth.groupby('date').price.mean().plot.bar() # 날짜별 평균 가격 "
   ]
  },
  {
   "cell_type": "code",
   "execution_count": 108,
   "id": "e558f3db",
   "metadata": {},
   "outputs": [
    {
     "data": {
      "text/plain": [
       "<AxesSubplot:xlabel='date'>"
      ]
     },
     "execution_count": 108,
     "metadata": {},
     "output_type": "execute_result"
    },
    {
     "data": {
      "image/png": "[encoded data removed]",
      "text/plain": [
       "<Figure size 432x288 with 1 Axes>"
      ]
     },
     "metadata": {
      "needs_background": "light"
     },
     "output_type": "display_data"
    }
   ],
   "source": [
    "df_less_amonth.groupby('date').price.median().plot.bar() # 날짜별 중간값 가격"
   ]
  },
  {
   "cell_type": "code",
   "execution_count": 109,
   "id": "947c4fcc",
   "metadata": {},
   "outputs": [
    {
     "data": {
      "text/plain": [
       "<AxesSubplot:xlabel='date'>"
      ]
     },
     "execution_count": 109,
     "metadata": {},
     "output_type": "execute_result"
    },
    {
     "data": {
      "image/png": "[encoded data removed]",
      "text/plain": [
       "<Figure size 432x288 with 1 Axes>"
      ]
     },
     "metadata": {
      "needs_background": "light"
     },
     "output_type": "display_data"
    }
   ],
   "source": [
    "df_less_amonth.groupby('date').view.median().plot.bar() # 날짜별  view 평균 "
   ]
  },
  {
   "cell_type": "markdown",
   "id": "47185b1f",
   "metadata": {},
   "source": [
    "# 한달 이상"
   ]
  },
  {
   "cell_type": "code",
   "execution_count": 112,
   "id": "26a232f1",
   "metadata": {},
   "outputs": [
    {
     "data": {
      "text/plain": [
       "<AxesSubplot:xlabel='ym_date'>"
      ]
     },
     "execution_count": 112,
     "metadata": {},
     "output_type": "execute_result"
    },
    {
     "data": {
      "image/png": "[encoded data removed]",
      "text/plain": [
       "<Figure size 432x288 with 1 Axes>"
      ]
     },
     "metadata": {
      "needs_background": "light"
     },
     "output_type": "display_data"
    }
   ],
   "source": [
    "df.groupby('ym_date').title.count().plot.bar() # 물량 "
   ]
  },
  {
   "cell_type": "code",
   "execution_count": 113,
   "id": "4a10958c",
   "metadata": {},
   "outputs": [
    {
     "data": {
      "text/plain": [
       "<AxesSubplot:xlabel='ym_date'>"
      ]
     },
     "execution_count": 113,
     "metadata": {},
     "output_type": "execute_result"
    },
    {
     "data": {
      "image/png": "[encoded data removed]",
      "text/plain": [
       "<Figure size 432x288 with 1 Axes>"
      ]
     },
     "metadata": {
      "needs_background": "light"
     },
     "output_type": "display_data"
    }
   ],
   "source": [
    "df.groupby('ym_date').price.median().plot.bar() # 가격 - 중간값 "
   ]
  },
  {
   "cell_type": "code",
   "execution_count": 115,
   "id": "630319a7",
   "metadata": {},
   "outputs": [
    {
     "data": {
      "text/plain": [
       "<AxesSubplot:xlabel='ym_date'>"
      ]
     },
     "execution_count": 115,
     "metadata": {},
     "output_type": "execute_result"
    },
    {
     "data": {
      "image/png": "[encoded data removed]",
      "text/plain": [
       "<Figure size 432x288 with 1 Axes>"
      ]
     },
     "metadata": {
      "needs_background": "light"
     },
     "output_type": "display_data"
    }
   ],
   "source": [
    "df.groupby('ym_date').view.mean().plot.bar()"
   ]
  },
  {
   "cell_type": "markdown",
   "id": "fe589993",
   "metadata": {},
   "source": [
    "# 년도별"
   ]
  },
  {
   "cell_type": "code",
   "execution_count": 119,
   "id": "2c8456b1",
   "metadata": {},
   "outputs": [
    {
     "data": {
      "text/plain": [
       "<AxesSubplot:xlabel='date'>"
      ]
     },
     "execution_count": 119,
     "metadata": {},
     "output_type": "execute_result"
    },
    {
     "data": {
      "image/png": "[encoded data removed]",
      "text/plain": [
       "<Figure size 432x288 with 1 Axes>"
      ]
     },
     "metadata": {
      "needs_background": "light"
     },
     "output_type": "display_data"
    }
   ],
   "source": [
    "df.groupby(df['date'].dt.year).price.mean().plot.bar()"
   ]
  },
  {
   "cell_type": "code",
   "execution_count": 120,
   "id": "cfb95245",
   "metadata": {},
   "outputs": [
    {
     "data": {
      "text/plain": [
       "<AxesSubplot:xlabel='date'>"
      ]
     },
     "execution_count": 120,
     "metadata": {},
     "output_type": "execute_result"
    },
    {
     "data": {
      "image/png": "[encoded data removed]",
      "text/plain": [
       "<Figure size 432x288 with 1 Axes>"
      ]
     },
     "metadata": {
      "needs_background": "light"
     },
     "output_type": "display_data"
    }
   ],
   "source": [
    "df.groupby(df['date'].dt.year).price.median().plot.bar()"
   ]
  },
  {
   "cell_type": "code",
   "execution_count": null,
   "id": "c6736fcd",
   "metadata": {},
   "outputs": [],
   "source": []
  }
 ],
 "metadata": {
  "kernelspec": {
   "display_name": "Python 3",
   "language": "python",
   "name": "python3"
  },
  "language_info": {
   "codemirror_mode": {
    "name": "ipython",
    "version": 3
   },
   "file_extension": ".py",
   "mimetype": "text/x-python",
   "name": "python",
   "nbconvert_exporter": "python",
   "pygments_lexer": "ipython3",
   "version": "3.8.8"
  },
  "toc": {
   "base_numbering": 1,
   "nav_menu": {},
   "number_sections": true,
   "sideBar": true,
   "skip_h1_title": false,
   "title_cell": "Table of Contents",
   "title_sidebar": "Contents",
   "toc_cell": false,
   "toc_position": {},
   "toc_section_display": true,
   "toc_window_display": false
  }
 },
 "nbformat": 4,
 "nbformat_minor": 5
}
