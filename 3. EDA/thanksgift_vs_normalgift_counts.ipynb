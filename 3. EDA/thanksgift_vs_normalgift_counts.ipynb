{
 "cells": [
  {
   "cell_type": "code",
   "execution_count": 1,
   "id": "3ccf9977",
   "metadata": {},
   "outputs": [],
   "source": [
    "import pandas as pd"
   ]
  },
  {
   "cell_type": "code",
   "execution_count": 2,
   "id": "87f8a781",
   "metadata": {},
   "outputs": [],
   "source": [
    "df = pd.read_excel(\"df_token_2.xlsx\")"
   ]
  },
  {
   "cell_type": "code",
   "execution_count": 3,
   "id": "5482e9d7",
   "metadata": {},
   "outputs": [
    {
     "data": {
      "text/plain": [
       "578"
      ]
     },
     "execution_count": 3,
     "metadata": {},
     "output_type": "execute_result"
    }
   ],
   "source": [
    "# 길이가 1인 것은 따로 추가함 \n",
    "\n",
    "# \n",
    "thanks_dict = {}\n",
    "thanks_dict[\"spam\"] = ['스팸', '리챔', '스팸선물세트', '로스팜', '스팸세트', '스팸8호', '햄','스팸6호', '스팸3호', '스팸1호', '그릭슈바인','런천미트', '수제햄', '의성마늘', '스팸복합1호', '스팸선물셋트']\n",
    "thanks_dict[\"tuna\"] = ['동원', '동원참치', '참치', '동원선물세트', '사조', '참치선물세트', '동원참치선물세트', '참치캔', '행호']\n",
    "thanks_dict[\"hand\"] = ['핸드크림', '핸드', '핸드워시', '손소독제', '더프트앤도프트', '랩신', '레저렉션']\n",
    "thanks_dict[\"nuts\"] = ['견과류', '견과']\n",
    "thanks_dict[\"dried_seafood\"] = ['멸치', '광천김', '멸치선물세트']\n",
    "thanks_dict[\"oil\"] = ['카놀라유', '참기름',  '식용유', '해바라기씨유', '트러플', '들기름', '올리브유', '해바라기유', '고급유', '포도씨유', '올리브오일', '기름', '요리유', '오일세트']\n",
    "thanks_dict[\"ginseng\"] = ['정관장', '홍삼', '인삼', '홍삼정', '6년근', '다보록', '한삼인', '활기력', '한뿌리', '홍삼스틱', '홍삼원', '홍삼선물세트']\n",
    "thanks_dict[\"mix\"] = ['청정원', 'cj', '해표', 'cj제일제당', '목우촌', '백설','스팸복합', '현명한선택', 'lg', '튜나리챔', '복합', 'cj선물세트', '안심특선', '특별한선택', '롯데', '특별한', '제일제당', '오뚜기', '농협', '혼합', '현명한', '사조해표', '스팸고급유', '청정원선물세트', '복합1호', '해표선물세트', '씨제이', '풍성한']\n",
    "thanks_dict[\"meat\"] = ['육포', '한우']\n",
    "thanks_dict[\"fruits\"] = ['사과', '표고버섯', '과일', '버섯', '곶감', '배']\n",
    "thanks_dict[\"snacks\"] = ['한과', '초콜릿', '쿠키', '과자']\n",
    "thanks_dict[\"spicy\"] = ['올리고당', '천일염', '벌꿀', '미엘드', '간장', '식초']\n",
    "thanks_dict[\"bath_thanks\"] = ['lg생활건강', '아모레퍼시픽', '애경', '생활건강', '엘지생활건강', '아모레', '엘지', '생활의']\n",
    "\n",
    "\n",
    "\n",
    "gift_dict = {}\n",
    "gift_dict[\"hygiene\"] = ['마스크', '섬유유연제', '세제']\n",
    "gift_dict[\"coffee\"] = ['스타벅스', '오설록','차', '커피', '티세트', '커피잔세트', '이디야', '카누', '티백', '드립백', 'tea', '쌍계명차', '에스프레소', '할리스', '맥심', '담터', '투썸', '녹차', '티박스', '네스프레소', '아메리카노', '핸드드립', 'twg', '허브티', '꽃차', '타바론', '홍차', '차세트', '더치커피', '비니스트', '홈카페', '투썸플레이스']\n",
    "gift_dict[\"drink\"] = ['와인', '신앙촌']\n",
    "gift_dict[\"perfume\"] = ['양키캔들', '향초', '향수', '캔들', '디퓨저', '조말론', '모링가', '캔들워머', '퍼퓸', '코코도르', '필로우미스트', '방향제', '베르사체', '디퓨져', '딥디크', '아로마', '워머세트', '양키', '바디필로우', '더블유드레스룸', '우드윅', '라벤더', '딥티크', '랑방', '보티브', '자쉐이드', '자캔들', '화이트머스크']\n",
    "gift_dict[\"cosmetics\"] = ['화장품','자음생', '설화수', '미스트', '크림', '키엘', '튼살크림','프레쉬', '에센스', '헤라', '스킨', '세럼', '토너', '립스틱', '에스티로더', '스킨케어', '비오템', '쿠션', '스틸라', '브러쉬', '탬버린즈', '입생로랑', '달바', '암웨이', '수분크림', '오휘', '디올', '앰플', '꼬달리', 'fresh', '바비브라운', '아이크림', '논픽션', '자음2종', '클렌저', 'ahc', '화장품세트', '미샤', '자음', '마스크팩', '클라란스', '랑콤', '버베나', '코리아나', '틴트', '아이오페', '스크럽', '립밤세트', '베네피트', '기초', '메이크업', '케어', '팔레트', '아이섀도우', '클렌징', '빌리프', '핸드밤', '안나수이', '카밀', '선크림', '갈색병', '이니스프리', '인셀덤', '산타마리아노벨라', '크리니크', '스킨로션', 'lush', '섀도우', '와일드로즈', '프리메라', '기초세트', 'sk2', '립밥', '파운데이션', '핸드크림세트', '한율', '남성화장품', '에멀젼', '공진향', '립세트']\n",
    "gift_dict[\"dishes\"] = ['커피잔','컵', '한국도자기', '그릇', '찻잔', '머그컵', '접시', '텀블러', '행남자기', '다기세트', '도자기', '포트메리온', '찻잔세트', '그릇세트', '머그', '와인잔', '다기', '식기세트', '티팟', '코렐', '웨지우드', '식기', '광주요', '머그잔', '본차이나', '빌레로이앤보흐', '로얄알버트', '접시세트', '국그릇', '밥그릇', '로얄', '보타닉가든', '유리컵', '로얄포드', '유리잔', '락앤락', '주전자', '맥주잔', '다기셋트', '머그세트', '방짜유기', '밀양도자기', '술잔', '컵세트', '티팟세트', '세라믹', '레녹스', '덴비', '컵받침', '다도세트']\n",
    "gift_dict[\"kitchen\"] = ['냄비', '수저세트', '수저', '칼세트', '후라이팬', '젓가락', '포크', '냄비세트', '르쿠르제', '밀폐용기', '소주잔', '프라이팬', '티스푼', '커트러리', '테팔', '네오플램', '헹켈', '키친아트', '스텐', '그라인더', '휘슬러', '글라스', '은수저', '르크루제', '스테인레스', '스테인리스', 'wmf', '나이프', '실리콘', '스텐냄비', '주방', '실리트', '반찬통', '스푼', '도마', '조리도구', '글라스락']\n",
    "gift_dict[\"man\"] = ['남성', '옴므', '남성용', '남자', '포맨', '100사이즈']\n",
    "gift_dict[\"jewel\"] = ['목걸이', '귀걸이', '스와로브스키', '팔찌', '시계', '반지', '14k', '키링', '진주', '제이에스티나', '악세사리', '24k', '팔찌세트']\n",
    "gift_dict[\"cloth\"] = ['양말', '원피스', '모자', '파우치', '손수건', '워머', '수건', '가방', '우주복', '지갑', '카드지갑', '속옷', '아디다스', '내의', '잠옷', '나이키', '폴로', '상하세트', '보스턴백', '가디건', '반지갑', '랄프로렌', '상하의', '속옷세트', '팬티', '브라', '벨트', '디스커버리', '장지갑', '양말세트', '내복', '트레이닝복', '넥타이', '바지', '목도리', '드레스', '니트', '정장', '장갑', '가죽', '타올', '빅토리아시크릿', '엘르']\n",
    "gift_dict[\"bath\"] = ['록시땅', '샴푸', '립밤', '바디워시', '배쓰', '캐스키드슨', '바디', '바디샵', '바디로션', '더바디샵', '러쉬', '로션', '치약', '비누', '샤워젤', '이솝', '버츠비', '컨디셔너', '비욘드', '히말라야', '케라시스', '트리트먼트', '입욕제', '바디세트', '시어버터', '린스', '아베다', '사봉', '캐드키드슨', '바디케어', '핑크솔트', '칫솔', '바디미스트', '배쓰밤', '바디스크럽', '요아럽', 'aesop', '바디판타지', '워시', '헤어', '바디크림', '리엔', '쿤달', '바디오일', '루치펠로', '샤워볼', '바디밤', '바디클렌저', '바디용품', '샤워', '클렌징폼', '해피바스', '섹스밤', '올가', '인덜전트']\n",
    "gift_dict[\"nutri\"] = ['콜라겐', '락토핏', '비타민', '멀티', '생유산균']\n",
    "gift_dict[\"leisure\"] = ['골프공', '골프', '아이언', '골프채', '볼빅', '골프백', '캐디백', '캠핑', '애벌레', '캘러웨이', '미즈노', '아이언세트', '테일러메이드', '드라이버', '볼마커', '타이틀리스트']\n",
    "gift_dict[\"baby\"] = ['신생아', '아기', '베베', '딸랑이', '출산선물세트', '여아', '유아','아동',  '임산부', '아기옷',  '출산선물', '장난감', '배냇저고리', '손싸개', '턱받이', '베이비', '아가방', '딸랑이세트', '속싸개', '어린이', '출산', '남아', '바디수트', '바디슈트', '오가닉맘', '젖병', '키즈', '이유식', '모빌', '치발기', '발싸개', '의자', '아기띠', '배넷저고리', '뽀로로', '맘스네이처', '상하복', '유모차', '밤부베베', '한스펌킨', '아토팜', '타요', '주방놀이', '압소바', '라마즈', '에뜨와', '밍크뮤']\n",
    "gift_dict[\"luxury\"] = ['샤넬', '구찌', '몽블랑', '루이비통', '불가리', '버버리', '페라가모', '에르메스']\n",
    "gift_dict[\"electric\"] = ['키보드', '인덕션', '마우스', '무선', '블루투스', '마사지기', '기펠', 'pro', '트리오', '닌텐도', 'led', '삼성', '청소기', '바이마르', '갤럭시', '프라엘', '스위치', '로지텍', '커피머신', '드롱기']\n",
    "gift_dict[\"coupon\"] = ['기프티콘', '선물하기', '쿠폰']\n",
    "gift_dict[\"furnishing\"] = ['이케아', '전등', '인테리어', '한샘', '무드등', '테이블', '모이몰른', '우산', '모던하우스', '이불', '베개', '미니워머', '필로우']\n",
    "# gift_dict[\"etc\"] = ['쇼핑백', '미니', '스페셜', '홀더', '듀오', '모자이크', '위드오가닉', '화이트', '클래식', '고급', '블랙', '닥스', '여성', '핑크', '로즈', '유기농', '유리', '컬렉션', '오가닉', '홈세트', '디즈니', '골드', '카카오프렌즈', '크리스마스', '에디션', '한정판', '명절선물', '크리스탈', '올인원', '볼펜', '인형', '카카오', '일본', '빈티지', '다이어리', '케이스', '라이언', '어피치', '파머스', '레드', '울트라', '러블리', '오리지널', '스페셜세트', '그린', '단호', '한국', '라미', '레트로', '물걸레', '벨벳']\n",
    "\n",
    "\n",
    "\n",
    "\n",
    "\n",
    "\n",
    "\n",
    "all_list = []\n",
    "thanks_list = []\n",
    "normal_list = []\n",
    "for i in list(gift_dict.values()):\n",
    "    for j in i:\n",
    "        normal_list.append(j)\n",
    "        \n",
    "for i in list(thanks_dict.values()):\n",
    "    for j in i:\n",
    "        thanks_list.append(j)\n",
    "        \n",
    "all_list = thanks_list+normal_list\n",
    "len(all_list)"
   ]
  },
  {
   "cell_type": "code",
   "execution_count": 4,
   "id": "c04536df",
   "metadata": {},
   "outputs": [
    {
     "data": {
      "text/plain": [
       "Index(['num', 'region', 'title', 'category', 'time', 'price', 'detail',\n",
       "       'interest', 'chat', 'view', 'upload_datetime', 'upload_date',\n",
       "       'upload_ym', 'reup', 'region_gu', 'token', 'token_sum', 'cate_temp',\n",
       "       'cate_final'],\n",
       "      dtype='object')"
      ]
     },
     "execution_count": 4,
     "metadata": {},
     "output_type": "execute_result"
    }
   ],
   "source": [
    "df.columns"
   ]
  },
  {
   "cell_type": "code",
   "execution_count": 5,
   "id": "d1402199",
   "metadata": {},
   "outputs": [],
   "source": [
    "thanks_list = list(thanks_dict.keys())"
   ]
  },
  {
   "cell_type": "code",
   "execution_count": 6,
   "id": "b3f83951",
   "metadata": {},
   "outputs": [],
   "source": [
    "gift_list = list(gift_dict.keys())"
   ]
  },
  {
   "cell_type": "code",
   "execution_count": 7,
   "id": "4f1d0451",
   "metadata": {},
   "outputs": [],
   "source": [
    "def which_dict(x):\n",
    "    if x in thanks_list:\n",
    "        result = 'thanks'\n",
    "    elif x in gift_list:\n",
    "        result= 'normal'\n",
    "    else :\n",
    "        result = 'nothing'\n",
    "    return result "
   ]
  },
  {
   "cell_type": "code",
   "execution_count": 8,
   "id": "3017d26c",
   "metadata": {},
   "outputs": [],
   "source": [
    "df['which_dict'] = df.cate_final.apply(which_dict)"
   ]
  },
  {
   "cell_type": "code",
   "execution_count": 9,
   "id": "63089f02",
   "metadata": {},
   "outputs": [
    {
     "data": {
      "text/plain": [
       "<AxesSubplot:xlabel='upload_ym'>"
      ]
     },
     "execution_count": 9,
     "metadata": {},
     "output_type": "execute_result"
    },
    {
     "data": {
      "image/png": "[encoded data removed]",
      "text/plain": [
       "<Figure size 432x288 with 1 Axes>"
      ]
     },
     "metadata": {
      "needs_background": "light"
     },
     "output_type": "display_data"
    }
   ],
   "source": [
    "df.groupby(['upload_ym', 'which_dict']).title.count().unstack().plot(kind='bar', stacked=True)"
   ]
  },
  {
   "cell_type": "code",
   "execution_count": 10,
   "id": "82b76fab",
   "metadata": {},
   "outputs": [],
   "source": [
    "sum_list = df.groupby('upload_ym').title.count().to_list()"
   ]
  },
  {
   "cell_type": "code",
   "execution_count": 15,
   "id": "06636e9e",
   "metadata": {},
   "outputs": [],
   "source": [
    "df3 = df.groupby(['upload_ym', 'which_dict']).title.count().reset_index()"
   ]
  },
  {
   "cell_type": "code",
   "execution_count": 22,
   "id": "63737d4c",
   "metadata": {},
   "outputs": [],
   "source": [
    "df4 = pd.crosstab(df.upload_ym, df.which_dict).reset_index()"
   ]
  },
  {
   "cell_type": "code",
   "execution_count": 23,
   "id": "f703bad4",
   "metadata": {},
   "outputs": [
    {
     "data": {
      "text/html": [
       "<div>\n",
       "<style scoped>\n",
       "    .dataframe tbody tr th:only-of-type {\n",
       "        vertical-align: middle;\n",
       "    }\n",
       "\n",
       "    .dataframe tbody tr th {\n",
       "        vertical-align: top;\n",
       "    }\n",
       "\n",
       "    .dataframe thead th {\n",
       "        text-align: right;\n",
       "    }\n",
       "</style>\n",
       "<table border=\"1\" class=\"dataframe\">\n",
       "  <thead>\n",
       "    <tr style=\"text-align: right;\">\n",
       "      <th>which_dict</th>\n",
       "      <th>upload_ym</th>\n",
       "      <th>normal</th>\n",
       "      <th>thanks</th>\n",
       "    </tr>\n",
       "  </thead>\n",
       "  <tbody>\n",
       "    <tr>\n",
       "      <th>0</th>\n",
       "      <td>2020-09</td>\n",
       "      <td>5689</td>\n",
       "      <td>3218</td>\n",
       "    </tr>\n",
       "    <tr>\n",
       "      <th>1</th>\n",
       "      <td>2020-10</td>\n",
       "      <td>1852</td>\n",
       "      <td>611</td>\n",
       "    </tr>\n",
       "    <tr>\n",
       "      <th>2</th>\n",
       "      <td>2020-11</td>\n",
       "      <td>2437</td>\n",
       "      <td>656</td>\n",
       "    </tr>\n",
       "    <tr>\n",
       "      <th>3</th>\n",
       "      <td>2020-12</td>\n",
       "      <td>3207</td>\n",
       "      <td>755</td>\n",
       "    </tr>\n",
       "    <tr>\n",
       "      <th>4</th>\n",
       "      <td>2021-01</td>\n",
       "      <td>3825</td>\n",
       "      <td>4163</td>\n",
       "    </tr>\n",
       "    <tr>\n",
       "      <th>5</th>\n",
       "      <td>2021-02</td>\n",
       "      <td>3235</td>\n",
       "      <td>1454</td>\n",
       "    </tr>\n",
       "    <tr>\n",
       "      <th>6</th>\n",
       "      <td>2021-03</td>\n",
       "      <td>2806</td>\n",
       "      <td>904</td>\n",
       "    </tr>\n",
       "    <tr>\n",
       "      <th>7</th>\n",
       "      <td>2021-04</td>\n",
       "      <td>2800</td>\n",
       "      <td>814</td>\n",
       "    </tr>\n",
       "    <tr>\n",
       "      <th>8</th>\n",
       "      <td>2021-05</td>\n",
       "      <td>2641</td>\n",
       "      <td>601</td>\n",
       "    </tr>\n",
       "    <tr>\n",
       "      <th>9</th>\n",
       "      <td>2021-06</td>\n",
       "      <td>2567</td>\n",
       "      <td>554</td>\n",
       "    </tr>\n",
       "    <tr>\n",
       "      <th>10</th>\n",
       "      <td>2021-07</td>\n",
       "      <td>2841</td>\n",
       "      <td>569</td>\n",
       "    </tr>\n",
       "    <tr>\n",
       "      <th>11</th>\n",
       "      <td>2021-08</td>\n",
       "      <td>1803</td>\n",
       "      <td>463</td>\n",
       "    </tr>\n",
       "    <tr>\n",
       "      <th>12</th>\n",
       "      <td>2021-09</td>\n",
       "      <td>8245</td>\n",
       "      <td>8711</td>\n",
       "    </tr>\n",
       "  </tbody>\n",
       "</table>\n",
       "</div>"
      ],
      "text/plain": [
       "which_dict upload_ym  normal  thanks\n",
       "0            2020-09    5689    3218\n",
       "1            2020-10    1852     611\n",
       "2            2020-11    2437     656\n",
       "3            2020-12    3207     755\n",
       "4            2021-01    3825    4163\n",
       "5            2021-02    3235    1454\n",
       "6            2021-03    2806     904\n",
       "7            2021-04    2800     814\n",
       "8            2021-05    2641     601\n",
       "9            2021-06    2567     554\n",
       "10           2021-07    2841     569\n",
       "11           2021-08    1803     463\n",
       "12           2021-09    8245    8711"
      ]
     },
     "execution_count": 23,
     "metadata": {},
     "output_type": "execute_result"
    }
   ],
   "source": [
    "df4"
   ]
  },
  {
   "cell_type": "code",
   "execution_count": 24,
   "id": "0efcd655",
   "metadata": {},
   "outputs": [],
   "source": [
    "df4['summ'] = df4.normal + df4.thanks "
   ]
  },
  {
   "cell_type": "code",
   "execution_count": 28,
   "id": "81d225a0",
   "metadata": {},
   "outputs": [],
   "source": [
    "df4['ratio'] = df4.thanks / df4.summ * 100"
   ]
  },
  {
   "cell_type": "code",
   "execution_count": 32,
   "id": "ea9637d5",
   "metadata": {},
   "outputs": [
    {
     "data": {
      "text/html": [
       "<div>\n",
       "<style scoped>\n",
       "    .dataframe tbody tr th:only-of-type {\n",
       "        vertical-align: middle;\n",
       "    }\n",
       "\n",
       "    .dataframe tbody tr th {\n",
       "        vertical-align: top;\n",
       "    }\n",
       "\n",
       "    .dataframe thead th {\n",
       "        text-align: right;\n",
       "    }\n",
       "</style>\n",
       "<table border=\"1\" class=\"dataframe\">\n",
       "  <thead>\n",
       "    <tr style=\"text-align: right;\">\n",
       "      <th>which_dict</th>\n",
       "      <th>upload_ym</th>\n",
       "      <th>normal</th>\n",
       "      <th>thanks</th>\n",
       "      <th>summ</th>\n",
       "      <th>ratio</th>\n",
       "    </tr>\n",
       "  </thead>\n",
       "  <tbody>\n",
       "    <tr>\n",
       "      <th>0</th>\n",
       "      <td>2020-09</td>\n",
       "      <td>5689</td>\n",
       "      <td>3218</td>\n",
       "      <td>8907</td>\n",
       "      <td>36.128887</td>\n",
       "    </tr>\n",
       "    <tr>\n",
       "      <th>1</th>\n",
       "      <td>2020-10</td>\n",
       "      <td>1852</td>\n",
       "      <td>611</td>\n",
       "      <td>2463</td>\n",
       "      <td>24.807146</td>\n",
       "    </tr>\n",
       "    <tr>\n",
       "      <th>2</th>\n",
       "      <td>2020-11</td>\n",
       "      <td>2437</td>\n",
       "      <td>656</td>\n",
       "      <td>3093</td>\n",
       "      <td>21.209182</td>\n",
       "    </tr>\n",
       "    <tr>\n",
       "      <th>3</th>\n",
       "      <td>2020-12</td>\n",
       "      <td>3207</td>\n",
       "      <td>755</td>\n",
       "      <td>3962</td>\n",
       "      <td>19.056032</td>\n",
       "    </tr>\n",
       "    <tr>\n",
       "      <th>4</th>\n",
       "      <td>2021-01</td>\n",
       "      <td>3825</td>\n",
       "      <td>4163</td>\n",
       "      <td>7988</td>\n",
       "      <td>52.115674</td>\n",
       "    </tr>\n",
       "    <tr>\n",
       "      <th>5</th>\n",
       "      <td>2021-02</td>\n",
       "      <td>3235</td>\n",
       "      <td>1454</td>\n",
       "      <td>4689</td>\n",
       "      <td>31.008744</td>\n",
       "    </tr>\n",
       "    <tr>\n",
       "      <th>6</th>\n",
       "      <td>2021-03</td>\n",
       "      <td>2806</td>\n",
       "      <td>904</td>\n",
       "      <td>3710</td>\n",
       "      <td>24.366577</td>\n",
       "    </tr>\n",
       "    <tr>\n",
       "      <th>7</th>\n",
       "      <td>2021-04</td>\n",
       "      <td>2800</td>\n",
       "      <td>814</td>\n",
       "      <td>3614</td>\n",
       "      <td>22.523520</td>\n",
       "    </tr>\n",
       "    <tr>\n",
       "      <th>8</th>\n",
       "      <td>2021-05</td>\n",
       "      <td>2641</td>\n",
       "      <td>601</td>\n",
       "      <td>3242</td>\n",
       "      <td>18.537940</td>\n",
       "    </tr>\n",
       "    <tr>\n",
       "      <th>9</th>\n",
       "      <td>2021-06</td>\n",
       "      <td>2567</td>\n",
       "      <td>554</td>\n",
       "      <td>3121</td>\n",
       "      <td>17.750721</td>\n",
       "    </tr>\n",
       "    <tr>\n",
       "      <th>10</th>\n",
       "      <td>2021-07</td>\n",
       "      <td>2841</td>\n",
       "      <td>569</td>\n",
       "      <td>3410</td>\n",
       "      <td>16.686217</td>\n",
       "    </tr>\n",
       "    <tr>\n",
       "      <th>11</th>\n",
       "      <td>2021-08</td>\n",
       "      <td>1803</td>\n",
       "      <td>463</td>\n",
       "      <td>2266</td>\n",
       "      <td>20.432480</td>\n",
       "    </tr>\n",
       "    <tr>\n",
       "      <th>12</th>\n",
       "      <td>2021-09</td>\n",
       "      <td>8245</td>\n",
       "      <td>8711</td>\n",
       "      <td>16956</td>\n",
       "      <td>51.374145</td>\n",
       "    </tr>\n",
       "  </tbody>\n",
       "</table>\n",
       "</div>"
      ],
      "text/plain": [
       "which_dict upload_ym  normal  thanks   summ      ratio\n",
       "0            2020-09    5689    3218   8907  36.128887\n",
       "1            2020-10    1852     611   2463  24.807146\n",
       "2            2020-11    2437     656   3093  21.209182\n",
       "3            2020-12    3207     755   3962  19.056032\n",
       "4            2021-01    3825    4163   7988  52.115674\n",
       "5            2021-02    3235    1454   4689  31.008744\n",
       "6            2021-03    2806     904   3710  24.366577\n",
       "7            2021-04    2800     814   3614  22.523520\n",
       "8            2021-05    2641     601   3242  18.537940\n",
       "9            2021-06    2567     554   3121  17.750721\n",
       "10           2021-07    2841     569   3410  16.686217\n",
       "11           2021-08    1803     463   2266  20.432480\n",
       "12           2021-09    8245    8711  16956  51.374145"
      ]
     },
     "execution_count": 32,
     "metadata": {},
     "output_type": "execute_result"
    }
   ],
   "source": [
    "df4"
   ]
  },
  {
   "cell_type": "code",
   "execution_count": 40,
   "id": "3dda36a7",
   "metadata": {},
   "outputs": [],
   "source": [
    "df5 = df4.drop([0, 4, 12])"
   ]
  },
  {
   "cell_type": "code",
   "execution_count": 44,
   "id": "d2703625",
   "metadata": {},
   "outputs": [
    {
     "data": {
      "text/plain": [
       "16.686217008797655"
      ]
     },
     "execution_count": 44,
     "metadata": {},
     "output_type": "execute_result"
    }
   ],
   "source": [
    "df5.ratio.min()"
   ]
  },
  {
   "cell_type": "code",
   "execution_count": null,
   "id": "9b340f75",
   "metadata": {},
   "outputs": [],
   "source": [
    "df.groupby('upload_ym')[['which_dict', ]].title.count()"
   ]
  },
  {
   "cell_type": "code",
   "execution_count": 20,
   "id": "534fb44e",
   "metadata": {},
   "outputs": [],
   "source": [
    "df.groupby(['upload_ym','which_dict']).title.count().to_excel('which_gift_portion.xlsx')"
   ]
  },
  {
   "cell_type": "code",
   "execution_count": 21,
   "id": "7f771c0b",
   "metadata": {},
   "outputs": [
    {
     "data": {
      "text/plain": [
       "reup\n",
       "0    32186\n",
       "1    35235\n",
       "Name: title, dtype: int64"
      ]
     },
     "execution_count": 21,
     "metadata": {},
     "output_type": "execute_result"
    }
   ],
   "source": [
    "df.groupby('reup').title.count()"
   ]
  },
  {
   "cell_type": "code",
   "execution_count": 24,
   "id": "6de12caf",
   "metadata": {},
   "outputs": [
    {
     "data": {
      "text/plain": [
       "cate_final\n",
       "baby             0.605418\n",
       "bath             0.604315\n",
       "bath_thanks      0.436649\n",
       "cloth            0.607181\n",
       "coffee           0.520703\n",
       "cosmetics        0.655520\n",
       "coupon           0.337662\n",
       "dishes           0.559059\n",
       "dried_seafood    0.356364\n",
       "drink            0.569892\n",
       "electric         0.468750\n",
       "fruits           0.238863\n",
       "furnishing       0.536946\n",
       "ginseng          0.490391\n",
       "hand             0.697125\n",
       "hygiene          0.626437\n",
       "jewel            0.672689\n",
       "kitchen          0.568217\n",
       "leisure          0.449393\n",
       "luxury           0.597254\n",
       "man              0.554622\n",
       "meat             0.213018\n",
       "mix              0.395283\n",
       "nutri            0.480469\n",
       "nuts             0.289286\n",
       "oil              0.355007\n",
       "perfume          0.586371\n",
       "snacks           0.281250\n",
       "spam             0.254280\n",
       "spicy            0.523936\n",
       "tuna             0.287400\n",
       "Name: reup, dtype: float64"
      ]
     },
     "execution_count": 24,
     "metadata": {},
     "output_type": "execute_result"
    }
   ],
   "source": [
    "df.groupby(['cate_final']).reup.mean()"
   ]
  },
  {
   "cell_type": "code",
   "execution_count": 25,
   "id": "721e11fe",
   "metadata": {},
   "outputs": [],
   "source": [
    "df_reup = df[df.reup ==1]"
   ]
  },
  {
   "cell_type": "code",
   "execution_count": 30,
   "id": "5bf41856",
   "metadata": {},
   "outputs": [
    {
     "data": {
      "text/plain": [
       "<AxesSubplot:xlabel='cate_final'>"
      ]
     },
     "execution_count": 30,
     "metadata": {},
     "output_type": "execute_result"
    },
    {
     "data": {
      "image/png": "[encoded data removed]",
      "text/plain": [
       "<Figure size 432x288 with 1 Axes>"
      ]
     },
     "metadata": {
      "needs_background": "light"
     },
     "output_type": "display_data"
    }
   ],
   "source": [
    "df.groupby(['cate_final', 'reup']).title.count().unstack().plot(kind='bar', stacked=True)"
   ]
  },
  {
   "cell_type": "code",
   "execution_count": null,
   "id": "cfe8175e",
   "metadata": {},
   "outputs": [],
   "source": []
  }
 ],
 "metadata": {
  "kernelspec": {
   "display_name": "Python 3",
   "language": "python",
   "name": "python3"
  },
  "language_info": {
   "codemirror_mode": {
    "name": "ipython",
    "version": 3
   },
   "file_extension": ".py",
   "mimetype": "text/x-python",
   "name": "python",
   "nbconvert_exporter": "python",
   "pygments_lexer": "ipython3",
   "version": "3.8.8"
  },
  "toc": {
   "base_numbering": 1,
   "nav_menu": {},
   "number_sections": true,
   "sideBar": true,
   "skip_h1_title": false,
   "title_cell": "Table of Contents",
   "title_sidebar": "Contents",
   "toc_cell": false,
   "toc_position": {},
   "toc_section_display": true,
   "toc_window_display": false
  }
 },
 "nbformat": 4,
 "nbformat_minor": 5
}
